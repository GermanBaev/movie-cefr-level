{
 "cells": [
  {
   "cell_type": "markdown",
   "id": "070672ca",
   "metadata": {
    "toc": true
   },
   "source": [
    "<h1>Содержание<span class=\"tocSkip\"></span></h1>\n",
    "<div class=\"toc\"><ul class=\"toc-item\"><li><span><a href=\"#Подготовка-данных\" data-toc-modified-id=\"Подготовка-данных-1\"><span class=\"toc-item-num\">1&nbsp;&nbsp;</span>Подготовка данных</a></span></li><li><span><a href=\"#Предобработка-данных\" data-toc-modified-id=\"Предобработка-данных-2\"><span class=\"toc-item-num\">2&nbsp;&nbsp;</span>Предобработка данных</a></span><ul class=\"toc-item\"><li><span><a href=\"#movie\" data-toc-modified-id=\"movie-2.1\"><span class=\"toc-item-num\">2.1&nbsp;&nbsp;</span><code>movie</code></a></span></li><li><span><a href=\"#english_level\" data-toc-modified-id=\"english_level-2.2\"><span class=\"toc-item-num\">2.2&nbsp;&nbsp;</span><code>english_level</code></a></span></li><li><span><a href=\"#subtitles\" data-toc-modified-id=\"subtitles-2.3\"><span class=\"toc-item-num\">2.3&nbsp;&nbsp;</span><code>subtitles</code></a></span></li><li><span><a href=\"#Разбиение-данных-на-выборки\" data-toc-modified-id=\"Разбиение-данных-на-выборки-2.4\"><span class=\"toc-item-num\">2.4&nbsp;&nbsp;</span>Разбиение данных на выборки</a></span></li></ul></li><li><span><a href=\"#Обучение-моделей\" data-toc-modified-id=\"Обучение-моделей-3\"><span class=\"toc-item-num\">3&nbsp;&nbsp;</span>Обучение моделей</a></span><ul class=\"toc-item\"><li><span><a href=\"#Исследование-задачи\" data-toc-modified-id=\"Исследование-задачи-3.1\"><span class=\"toc-item-num\">3.1&nbsp;&nbsp;</span>Исследование задачи</a></span></li><li><span><a href=\"#Bag-of-words-(BOW)\" data-toc-modified-id=\"Bag-of-words-(BOW)-3.2\"><span class=\"toc-item-num\">3.2&nbsp;&nbsp;</span>Bag of words (BOW)</a></span></li><li><span><a href=\"#TF-IDF-(Term-Frequency---Inverse-Document-Frequency)\" data-toc-modified-id=\"TF-IDF-(Term-Frequency---Inverse-Document-Frequency)-3.3\"><span class=\"toc-item-num\">3.3&nbsp;&nbsp;</span>TF-IDF (Term Frequency - Inverse Document Frequency)</a></span></li><li><span><a href=\"#Модель-случайного-леса\" data-toc-modified-id=\"Модель-случайного-леса-3.4\"><span class=\"toc-item-num\">3.4&nbsp;&nbsp;</span>Модель случайного леса</a></span></li><li><span><a href=\"#Модель-логистической-регрессии\" data-toc-modified-id=\"Модель-логистической-регрессии-3.5\"><span class=\"toc-item-num\">3.5&nbsp;&nbsp;</span>Модель логистической регрессии</a></span></li><li><span><a href=\"#Модель-градиентного-бустинга\" data-toc-modified-id=\"Модель-градиентного-бустинга-3.6\"><span class=\"toc-item-num\">3.6&nbsp;&nbsp;</span>Модель градиентного бустинга</a></span></li><li><span><a href=\"#Результаты-моделей\" data-toc-modified-id=\"Результаты-моделей-3.7\"><span class=\"toc-item-num\">3.7&nbsp;&nbsp;</span>Результаты моделей</a></span></li><li><span><a href=\"#Проверка-на-тестовых-данных\" data-toc-modified-id=\"Проверка-на-тестовых-данных-3.8\"><span class=\"toc-item-num\">3.8&nbsp;&nbsp;</span>Проверка на тестовых данных</a></span></li></ul></li><li><span><a href=\"#Сохранение-модели-в-бинарном-виде\" data-toc-modified-id=\"Сохранение-модели-в-бинарном-виде-4\"><span class=\"toc-item-num\">4&nbsp;&nbsp;</span>Сохранение модели в бинарном виде</a></span></li></ul></div>"
   ]
  },
  {
   "cell_type": "markdown",
   "id": "dbe0b802",
   "metadata": {},
   "source": [
    "# English Movies Scores"
   ]
  },
  {
   "cell_type": "markdown",
   "id": "8fac7579",
   "metadata": {},
   "source": [
    "## Подготовка данных"
   ]
  },
  {
   "cell_type": "code",
   "execution_count": 1,
   "id": "f82e4daf",
   "metadata": {
    "ExecuteTime": {
     "end_time": "2023-05-15T20:44:11.523181Z",
     "start_time": "2023-05-15T20:44:00.793009Z"
    }
   },
   "outputs": [
    {
     "name": "stderr",
     "output_type": "stream",
     "text": [
      "2023-05-15 23:44:04.434897: I tensorflow/core/platform/cpu_feature_guard.cc:193] This TensorFlow binary is optimized with oneAPI Deep Neural Network Library (oneDNN) to use the following CPU instructions in performance-critical operations:  AVX2 FMA\n",
      "To enable them in other operations, rebuild TensorFlow with the appropriate compiler flags.\n"
     ]
    }
   ],
   "source": [
    "# Импорт библиотек\n",
    "import os\n",
    "import pandas as pd\n",
    "import numpy as np\n",
    "import matplotlib.pyplot as plt\n",
    "import seaborn as sns\n",
    "from sklearn.model_selection import train_test_split\n",
    "from phik.phik import phik_matrix\n",
    "from plotly.subplots import make_subplots\n",
    "import plotly.graph_objects as go\n",
    "\n",
    "# !pip install pysrt -q\n",
    "import pysrt\n",
    "import re\n",
    "\n",
    "# # Библиотеки для NLTK-лемматизации с соответствующими POS-тегами\n",
    "# import nltk\n",
    "# from nltk.stem import WordNetLemmatizer\n",
    "# from nltk.corpus import wordnet\n",
    "# nltk.download('wordnet')\n",
    "# nltk.download('averaged_perceptron_tagger')\n",
    "# nltk.download('omw-1.4')\n",
    "# from nltk.corpus import stopwords\n",
    "# nltk.download('stopwords')\n",
    "\n",
    "# Библиотека для SpaCy-лемматизации\n",
    "import spacy\n",
    "\n",
    "# Векторайзеры\n",
    "from sklearn.feature_extraction.text import CountVectorizer\n",
    "from sklearn.feature_extraction.text import TfidfVectorizer\n",
    "\n",
    "# Models, searchcv, pipeline \n",
    "from sklearn.ensemble import RandomForestClassifier\n",
    "from sklearn.linear_model import LogisticRegression\n",
    "# from catboost import CatBoostClassifier\n",
    "from sklearn.model_selection import GridSearchCV\n",
    "from imblearn.pipeline import Pipeline, make_pipeline\n",
    "from sklearn.metrics import accuracy_score\n",
    "\n",
    "from sklearn.metrics import confusion_matrix\n",
    "\n",
    "from pickle import dump, load"
   ]
  },
  {
   "cell_type": "markdown",
   "id": "4794ba5e",
   "metadata": {},
   "source": [
    "Загрузим таблицу фильмов и меток."
   ]
  },
  {
   "cell_type": "code",
   "execution_count": 2,
   "id": "8d874783",
   "metadata": {
    "ExecuteTime": {
     "end_time": "2023-05-15T20:44:11.929353Z",
     "start_time": "2023-05-15T20:44:11.528710Z"
    }
   },
   "outputs": [],
   "source": [
    "movies_labels = pd.read_excel('English_level/English_scores/movies_labels.xlsx', \n",
    "                              usecols=['Movie', 'Level'])"
   ]
  },
  {
   "cell_type": "markdown",
   "id": "619188a7",
   "metadata": {},
   "source": [
    "Выведем таблицу фильмов и меток."
   ]
  },
  {
   "cell_type": "code",
   "execution_count": 3,
   "id": "ab2f7f4c",
   "metadata": {
    "ExecuteTime": {
     "end_time": "2023-05-15T20:44:11.995367Z",
     "start_time": "2023-05-15T20:44:11.933553Z"
    },
    "scrolled": false
   },
   "outputs": [
    {
     "data": {
      "text/html": [
       "<div>\n",
       "<style scoped>\n",
       "    .dataframe tbody tr th:only-of-type {\n",
       "        vertical-align: middle;\n",
       "    }\n",
       "\n",
       "    .dataframe tbody tr th {\n",
       "        vertical-align: top;\n",
       "    }\n",
       "\n",
       "    .dataframe thead th {\n",
       "        text-align: right;\n",
       "    }\n",
       "</style>\n",
       "<table border=\"1\" class=\"dataframe\">\n",
       "  <thead>\n",
       "    <tr style=\"text-align: right;\">\n",
       "      <th></th>\n",
       "      <th>Movie</th>\n",
       "      <th>Level</th>\n",
       "    </tr>\n",
       "  </thead>\n",
       "  <tbody>\n",
       "    <tr>\n",
       "      <th>0</th>\n",
       "      <td>10_Cloverfield_lane(2016)</td>\n",
       "      <td>B1</td>\n",
       "    </tr>\n",
       "    <tr>\n",
       "      <th>1</th>\n",
       "      <td>10_things_I_hate_about_you(1999)</td>\n",
       "      <td>B1</td>\n",
       "    </tr>\n",
       "    <tr>\n",
       "      <th>2</th>\n",
       "      <td>A_knights_tale(2001)</td>\n",
       "      <td>B2</td>\n",
       "    </tr>\n",
       "    <tr>\n",
       "      <th>3</th>\n",
       "      <td>A_star_is_born(2018)</td>\n",
       "      <td>B2</td>\n",
       "    </tr>\n",
       "    <tr>\n",
       "      <th>4</th>\n",
       "      <td>Aladdin(1992)</td>\n",
       "      <td>A2/A2+</td>\n",
       "    </tr>\n",
       "    <tr>\n",
       "      <th>...</th>\n",
       "      <td>...</td>\n",
       "      <td>...</td>\n",
       "    </tr>\n",
       "    <tr>\n",
       "      <th>236</th>\n",
       "      <td>Matilda(2022)</td>\n",
       "      <td>C1</td>\n",
       "    </tr>\n",
       "    <tr>\n",
       "      <th>237</th>\n",
       "      <td>Bullet train</td>\n",
       "      <td>B1</td>\n",
       "    </tr>\n",
       "    <tr>\n",
       "      <th>238</th>\n",
       "      <td>Thor: love and thunder</td>\n",
       "      <td>B2</td>\n",
       "    </tr>\n",
       "    <tr>\n",
       "      <th>239</th>\n",
       "      <td>Lightyear</td>\n",
       "      <td>B2</td>\n",
       "    </tr>\n",
       "    <tr>\n",
       "      <th>240</th>\n",
       "      <td>The Grinch</td>\n",
       "      <td>B1</td>\n",
       "    </tr>\n",
       "  </tbody>\n",
       "</table>\n",
       "<p>241 rows × 2 columns</p>\n",
       "</div>"
      ],
      "text/plain": [
       "                                Movie   Level\n",
       "0           10_Cloverfield_lane(2016)      B1\n",
       "1    10_things_I_hate_about_you(1999)      B1\n",
       "2                A_knights_tale(2001)      B2\n",
       "3                A_star_is_born(2018)      B2\n",
       "4                       Aladdin(1992)  A2/A2+\n",
       "..                                ...     ...\n",
       "236                     Matilda(2022)      C1\n",
       "237                      Bullet train      B1\n",
       "238            Thor: love and thunder      B2\n",
       "239                         Lightyear      B2\n",
       "240                        The Grinch      B1\n",
       "\n",
       "[241 rows x 2 columns]"
      ]
     },
     "execution_count": 3,
     "metadata": {},
     "output_type": "execute_result"
    }
   ],
   "source": [
    "movies_labels"
   ]
  },
  {
   "cell_type": "markdown",
   "id": "d91313db",
   "metadata": {},
   "source": [
    "Выведем основную информацию о датафрейме."
   ]
  },
  {
   "cell_type": "code",
   "execution_count": 4,
   "id": "e720fad8",
   "metadata": {
    "ExecuteTime": {
     "end_time": "2023-05-15T20:44:12.012046Z",
     "start_time": "2023-05-15T20:44:12.001599Z"
    }
   },
   "outputs": [
    {
     "name": "stdout",
     "output_type": "stream",
     "text": [
      "<class 'pandas.core.frame.DataFrame'>\n",
      "RangeIndex: 241 entries, 0 to 240\n",
      "Data columns (total 2 columns):\n",
      " #   Column  Non-Null Count  Dtype \n",
      "---  ------  --------------  ----- \n",
      " 0   Movie   241 non-null    object\n",
      " 1   Level   241 non-null    object\n",
      "dtypes: object(2)\n",
      "memory usage: 3.9+ KB\n"
     ]
    }
   ],
   "source": [
    "movies_labels.info()"
   ]
  },
  {
   "cell_type": "markdown",
   "id": "fa6c7ef0",
   "metadata": {},
   "source": [
    "У нас есть 4 папки ('A2', 'B1', 'B2', 'C1'), в которых располагаются `.srt`-файлы. Каждый файл имеет название фильма, а в самом файле располагаются субтитры этого фильма.\n",
    "\n",
    "Создадим датафрейм `df` с тремя столбцами:\n",
    "- `movie` – название фильма из папок 'A2', 'B1', 'B2', 'C1';\n",
    "\n",
    "- `subtitles` – текст субтитров фильма;\n",
    "- `english_level` – присвоим каждому фильму уровень английского, соответствующий тому из какой папки был взят фильм."
   ]
  },
  {
   "cell_type": "code",
   "execution_count": 5,
   "id": "20874d4c",
   "metadata": {
    "ExecuteTime": {
     "end_time": "2023-05-15T20:44:16.659999Z",
     "start_time": "2023-05-15T20:44:12.018589Z"
    }
   },
   "outputs": [],
   "source": [
    "# Создаем пустой датафрейм с нужными колонками\n",
    "df = pd.DataFrame(columns=[\"movie\", \"subtitles\", \"english_level\"])\n",
    "\n",
    "# Список названий папок\n",
    "folder_names = ['A2', 'B1', 'B2', 'C1']\n",
    "\n",
    "# Указываем директорию с файлами .srt\n",
    "directory = 'English_level/English_scores/Subtitles_all/'\n",
    "\n",
    "# Проходим по всем папкам с фильмами\n",
    "for folder_name in folder_names:\n",
    "    # Получаем путь к папке\n",
    "    folder_path = os.path.join(directory, folder_name)\n",
    "    # Проходим по всем файлам в папке\n",
    "    for file_name in os.listdir(folder_path):\n",
    "        # Проверяем, что это .srt файл\n",
    "        if file_name.endswith(\".srt\"):\n",
    "            # Получаем полный путь к файлу\n",
    "            file_path = os.path.join(folder_path, file_name)\n",
    "            # Используем pysrt для загрузки субтитров из файла\n",
    "            try:\n",
    "                subs = pysrt.open(file_path)\n",
    "            except UnicodeDecodeError:\n",
    "                try:\n",
    "                    subs = pysrt.open(file_path, encoding='iso-8859-1')\n",
    "                except:\n",
    "                    pass\n",
    "            # Добавляем новую строку в датафрейм с информацией о фильме\n",
    "            new_row = {\n",
    "                \"movie\": file_name[:-4],  # удаляем расширение файла\n",
    "                \"subtitles\": subs[1:].text, # удаляем первый рекламный субтитр и переводим pysrt-файл в текст\n",
    "                \"english_level\": folder_name\n",
    "            }\n",
    "            df = pd.concat([df, pd.DataFrame(new_row, index=[0])], ignore_index=True)"
   ]
  },
  {
   "cell_type": "markdown",
   "id": "77d45ac4",
   "metadata": {},
   "source": [
    "Выведем полученный датафрейм."
   ]
  },
  {
   "cell_type": "code",
   "execution_count": 6,
   "id": "0ad3cf11",
   "metadata": {
    "ExecuteTime": {
     "end_time": "2023-05-15T20:44:16.685326Z",
     "start_time": "2023-05-15T20:44:16.662702Z"
    },
    "scrolled": true
   },
   "outputs": [
    {
     "data": {
      "text/html": [
       "<div>\n",
       "<style scoped>\n",
       "    .dataframe tbody tr th:only-of-type {\n",
       "        vertical-align: middle;\n",
       "    }\n",
       "\n",
       "    .dataframe tbody tr th {\n",
       "        vertical-align: top;\n",
       "    }\n",
       "\n",
       "    .dataframe thead th {\n",
       "        text-align: right;\n",
       "    }\n",
       "</style>\n",
       "<table border=\"1\" class=\"dataframe\">\n",
       "  <thead>\n",
       "    <tr style=\"text-align: right;\">\n",
       "      <th></th>\n",
       "      <th>movie</th>\n",
       "      <th>subtitles</th>\n",
       "      <th>english_level</th>\n",
       "    </tr>\n",
       "  </thead>\n",
       "  <tbody>\n",
       "    <tr>\n",
       "      <th>0</th>\n",
       "      <td>The Walking Dead-S01E03-Tell It To The Frogs.E...</td>\n",
       "      <td>Merle:\\nThat's right. You heard me, bitch.\\nYo...</td>\n",
       "      <td>A2</td>\n",
       "    </tr>\n",
       "    <tr>\n",
       "      <th>1</th>\n",
       "      <td>The Walking Dead-S01E05-Wildfire.English</td>\n",
       "      <td>I don't know if you're out there.\\nI don't kno...</td>\n",
       "      <td>A2</td>\n",
       "    </tr>\n",
       "    <tr>\n",
       "      <th>2</th>\n",
       "      <td>The Walking Dead-S01E02-Guts.English</td>\n",
       "      <td>Boy: Mom!\\nRight here.\\n( pots rattling )\\nAny...</td>\n",
       "      <td>A2</td>\n",
       "    </tr>\n",
       "    <tr>\n",
       "      <th>3</th>\n",
       "      <td>The Walking Dead-S01E04-Vatos.English</td>\n",
       "      <td>- What?\\n- Nothing.\\nIt's not nothing.\\nIt's a...</td>\n",
       "      <td>A2</td>\n",
       "    </tr>\n",
       "    <tr>\n",
       "      <th>4</th>\n",
       "      <td>The Walking Dead-S01E06-TS-19.English</td>\n",
       "      <td>Hey hey.\\nWhoa whoa whoa whoa.\\nMa'am. Ma'am, ...</td>\n",
       "      <td>A2</td>\n",
       "    </tr>\n",
       "    <tr>\n",
       "      <th>...</th>\n",
       "      <td>...</td>\n",
       "      <td>...</td>\n",
       "      <td>...</td>\n",
       "    </tr>\n",
       "    <tr>\n",
       "      <th>158</th>\n",
       "      <td>Suits.S03E08.480p.HDTV.x264-mSD</td>\n",
       "      <td>Darby backs me\\nfor managing partner.\\nI don't...</td>\n",
       "      <td>C1</td>\n",
       "    </tr>\n",
       "    <tr>\n",
       "      <th>159</th>\n",
       "      <td>Suits S04E06 EngSub</td>\n",
       "      <td>That's not\\nWoodall coming after us.\\nIt's Sea...</td>\n",
       "      <td>C1</td>\n",
       "    </tr>\n",
       "    <tr>\n",
       "      <th>160</th>\n",
       "      <td>Suits.S03E07.HDTV.x264-mSD</td>\n",
       "      <td>It's going up\\non the wall tomorrow...\\nAnd th...</td>\n",
       "      <td>C1</td>\n",
       "    </tr>\n",
       "    <tr>\n",
       "      <th>161</th>\n",
       "      <td>Suits S04E03 EngSub</td>\n",
       "      <td>You're good with me working\\non the takeover w...</td>\n",
       "      <td>C1</td>\n",
       "    </tr>\n",
       "    <tr>\n",
       "      <th>162</th>\n",
       "      <td>Suits S04E12 EngSub</td>\n",
       "      <td>The answer's no.\\nWhich is why I brought this....</td>\n",
       "      <td>C1</td>\n",
       "    </tr>\n",
       "  </tbody>\n",
       "</table>\n",
       "<p>163 rows × 3 columns</p>\n",
       "</div>"
      ],
      "text/plain": [
       "                                                 movie  \\\n",
       "0    The Walking Dead-S01E03-Tell It To The Frogs.E...   \n",
       "1             The Walking Dead-S01E05-Wildfire.English   \n",
       "2                 The Walking Dead-S01E02-Guts.English   \n",
       "3                The Walking Dead-S01E04-Vatos.English   \n",
       "4                The Walking Dead-S01E06-TS-19.English   \n",
       "..                                                 ...   \n",
       "158                    Suits.S03E08.480p.HDTV.x264-mSD   \n",
       "159                                Suits S04E06 EngSub   \n",
       "160                         Suits.S03E07.HDTV.x264-mSD   \n",
       "161                                Suits S04E03 EngSub   \n",
       "162                                Suits S04E12 EngSub   \n",
       "\n",
       "                                             subtitles english_level  \n",
       "0    Merle:\\nThat's right. You heard me, bitch.\\nYo...            A2  \n",
       "1    I don't know if you're out there.\\nI don't kno...            A2  \n",
       "2    Boy: Mom!\\nRight here.\\n( pots rattling )\\nAny...            A2  \n",
       "3    - What?\\n- Nothing.\\nIt's not nothing.\\nIt's a...            A2  \n",
       "4    Hey hey.\\nWhoa whoa whoa whoa.\\nMa'am. Ma'am, ...            A2  \n",
       "..                                                 ...           ...  \n",
       "158  Darby backs me\\nfor managing partner.\\nI don't...            C1  \n",
       "159  That's not\\nWoodall coming after us.\\nIt's Sea...            C1  \n",
       "160  It's going up\\non the wall tomorrow...\\nAnd th...            C1  \n",
       "161  You're good with me working\\non the takeover w...            C1  \n",
       "162  The answer's no.\\nWhich is why I brought this....            C1  \n",
       "\n",
       "[163 rows x 3 columns]"
      ]
     },
     "execution_count": 6,
     "metadata": {},
     "output_type": "execute_result"
    }
   ],
   "source": [
    "df"
   ]
  },
  {
   "cell_type": "markdown",
   "id": "01d72eb9",
   "metadata": {},
   "source": [
    "Выведем основную информацию о датафрейме."
   ]
  },
  {
   "cell_type": "code",
   "execution_count": 7,
   "id": "45988198",
   "metadata": {
    "ExecuteTime": {
     "end_time": "2023-05-15T20:44:16.702088Z",
     "start_time": "2023-05-15T20:44:16.690997Z"
    }
   },
   "outputs": [
    {
     "name": "stdout",
     "output_type": "stream",
     "text": [
      "<class 'pandas.core.frame.DataFrame'>\n",
      "RangeIndex: 163 entries, 0 to 162\n",
      "Data columns (total 3 columns):\n",
      " #   Column         Non-Null Count  Dtype \n",
      "---  ------         --------------  ----- \n",
      " 0   movie          163 non-null    object\n",
      " 1   subtitles      163 non-null    object\n",
      " 2   english_level  163 non-null    object\n",
      "dtypes: object(3)\n",
      "memory usage: 3.9+ KB\n"
     ]
    }
   ],
   "source": [
    "df.info()"
   ]
  },
  {
   "cell_type": "markdown",
   "id": "f18162b7",
   "metadata": {},
   "source": [
    "У нас есть папка 'Subtitles', в которой по аналогии с папками выше располагаются `.srt`-файлы с субтитрами к фильмам, в соответствии с которыми эти файлы названы.\n",
    "\n",
    "Создадим еще один датафрейм с тремя столбцами:\n",
    "- `movie` – названия фильмов из папки 'Subtitles';\n",
    "- `subtitles` – текст субтитров фильма;\n",
    "- `english_level` – присвоим каждому фильму уровень английского, который указан в таблице `movies_labels`.\n",
    "\n",
    "В случае отсутствия о фильме информации его уровня английского в таблице `movies_labels` или же если в папке 'Subtitles' не окажется фильма из таблицы, то такой фильм в датафрейм записываться не будет."
   ]
  },
  {
   "cell_type": "code",
   "execution_count": 8,
   "id": "55eb2318",
   "metadata": {
    "ExecuteTime": {
     "end_time": "2023-05-15T20:44:21.201430Z",
     "start_time": "2023-05-15T20:44:16.705687Z"
    },
    "scrolled": true
   },
   "outputs": [
    {
     "name": "stdout",
     "output_type": "stream",
     "text": [
      "Файл The Secret Life of Pets.en.srt не найден. Фильм будет пропущен.\n",
      "Файл Up (2009).srt не найден. Фильм будет пропущен.\n",
      "Файл The Walking Dead-S01E01-Days Gone Bye.English.srt не найден. Фильм будет пропущен.\n",
      "Файл The Walking Dead-S01E02-Guts.English.srt не найден. Фильм будет пропущен.\n",
      "Файл The Walking Dead-S01E03-Tell It To The Frogs.English.srt не найден. Фильм будет пропущен.\n",
      "Файл The Walking Dead-S01E04-Vatos.English.srt не найден. Фильм будет пропущен.\n",
      "Файл The Walking Dead-S01E05-Wildfire.English.srt не найден. Фильм будет пропущен.\n",
      "Файл The Walking Dead-S01E06-TS-19.English.srt не найден. Фильм будет пропущен.\n",
      "Файл AmericanBeauty1999.BRRip.srt не найден. Фильм будет пропущен.\n",
      "Файл Angelas.Christmas.Wish.2020.srt не найден. Фильм будет пропущен.\n",
      "Файл Indiana Jones And The Last Crusade DVDRip Xvid -IZON-.srt не найден. Фильм будет пропущен.\n",
      "Файл mechanic-resurrection_.srt не найден. Фильм будет пропущен.\n",
      "Файл Men.In.Black.1997.720p.Bluray.x264-SEPTiC.srt не найден. Фильм будет пропущен.\n",
      "Файл Rat.Race.2001.1080p.WEB-DL.DD5.1.H264-FGT.srt не найден. Фильм будет пропущен.\n",
      "Файл Seven.Worlds.One.Planet.S01E01.2160p.BluRay.Remux.eng.srt не найден. Фильм будет пропущен.\n",
      "Файл Seven.Worlds.One.Planet.S01E02.2160p.BluRay.Remux.eng.srt не найден. Фильм будет пропущен.\n",
      "Файл Seven.Worlds.One.Planet.S01E03.2160p.BluRay.Remux.eng.srt не найден. Фильм будет пропущен.\n",
      "Файл Seven.Worlds.One.Planet.S01E04.2160p.BluRay.Remux.eng.srt не найден. Фильм будет пропущен.\n",
      "Файл Seven.Worlds.One.Planet.S01E05.2160p.BluRay.Remux.eng.srt не найден. Фильм будет пропущен.\n",
      "Файл Seven.Worlds.One.Planet.S01E06.2160p.BluRay.Remux.eng.srt не найден. Фильм будет пропущен.\n",
      "Файл Seven.Worlds.One.Planet.S01E07.2160p.BluRay.Remux.eng.srt не найден. Фильм будет пропущен.\n",
      "Файл Spirit.Stallion.of.the.Cimarron.EN.srt не найден. Фильм будет пропущен.\n",
      "Файл Terminator_2_Judgment_Day_1991_roNy.srt не найден. Фильм будет пропущен.\n",
      "Файл Valentine's.Day.2010.Subtitles.YIFY.srt не найден. Фильм будет пропущен.\n",
      "Файл Angela's.Christmas.2018.WEBRip.Netflix.srt не найден. Фильм будет пропущен.\n",
      "Файл Collateral.Beauty.2016.720p.BRRip.x264.AAC-ETRG.srt не найден. Фильм будет пропущен.\n",
      "Файл Crazy4TV.com - Suits.S06E01.720p.BluRay.x265.HEVC.Crazy4ad.srt не найден. Фильм будет пропущен.\n",
      "Файл Crazy4TV.com - Suits.S06E02.720p.BluRay.x265.HEVC.Crazy4ad.srt не найден. Фильм будет пропущен.\n",
      "Файл Crazy4TV.com - Suits.S06E03.720p.BluRay.x265.HEVC.Crazy4ad.srt не найден. Фильм будет пропущен.\n",
      "Файл Crazy4TV.com - Suits.S06E04.720p.BluRay.x265.HEVC.Crazy4ad.srt не найден. Фильм будет пропущен.\n",
      "Файл Crazy4TV.com - Suits.S06E05.720p.BluRay.x265.HEVC.Crazy4ad.srt не найден. Фильм будет пропущен.\n",
      "Файл Crazy4TV.com - Suits.S06E06.720p.BluRay.x265.HEVC.Crazy4ad.srt не найден. Фильм будет пропущен.\n",
      "Файл Crazy4TV.com - Suits.S06E07.720p.BluRay.x265.HEVC.Crazy4ad.srt не найден. Фильм будет пропущен.\n",
      "Файл Crazy4TV.com - Suits.S06E08.720p.BluRay.x265.HEVC.Crazy4ad.srt не найден. Фильм будет пропущен.\n",
      "Файл Crazy4TV.com - Suits.S06E09.720p.BluRay.x265.HEVC.Crazy4ad.srt не найден. Фильм будет пропущен.\n",
      "Файл Crazy4TV.com - Suits.S06E10.720p.BluRay.x265.HEVC.Crazy4ad.srt не найден. Фильм будет пропущен.\n",
      "Файл Crazy4TV.com - Suits.S06E11.720p.BluRay.x265.HEVC.Crazy4ad.srt не найден. Фильм будет пропущен.\n",
      "Файл Crazy4TV.com - Suits.S06E12.720p.BluRay.x265.HEVC.Crazy4ad.srt не найден. Фильм будет пропущен.\n",
      "Файл Crazy4TV.com - Suits.S06E13.720p.BluRay.x265.HEVC.Crazy4ad.srt не найден. Фильм будет пропущен.\n",
      "Файл Crazy4TV.com - Suits.S06E14.720p.BluRay.x265.HEVC.Crazy4ad.srt не найден. Фильм будет пропущен.\n",
      "Файл Crazy4TV.com - Suits.S06E15.720p.BluRay.x265.HEVC.Crazy4ad.srt не найден. Фильм будет пропущен.\n",
      "Файл Crazy4TV.com - Suits.S06E16.720p.BluRay.x265.HEVC.Crazy4ad.srt не найден. Фильм будет пропущен.\n",
      "Файл Ghosts.of.Girlfriends.Past.2009.BluRay.720p.x264.YIFY.srt не найден. Фильм будет пропущен.\n",
      "Файл Roman Holiday 1953 1080p WEBRip HEVC AAC.srt не найден. Фильм будет пропущен.\n",
      "Файл Secrets Of Her Majesty's Secret Service eng.srt не найден. Фильм будет пропущен.\n",
      "Файл SOMM.Into.the.Bottle.2015.1080p.BluRay.x265-RARBG.en.srt.srt не найден. Фильм будет пропущен.\n",
      "Файл Suits.Episode 1- Denial.srt не найден. Фильм будет пропущен.\n",
      "Файл Suits.Episode 10- Faith.srt не найден. Фильм будет пропущен.\n",
      "Файл Suits.Episode 11- Blowback.srt не найден. Фильм будет пропущен.\n",
      "Файл Suits.Episode 12- Live to Fight.srt не найден. Фильм будет пропущен.\n",
      "Файл Suits.Episode 13- God's Green Earth.srt не найден. Фильм будет пропущен.\n",
      "Файл Suits.Episode 14- Self Defense.srt не найден. Фильм будет пропущен.\n",
      "Файл Suits.Episode 15- Tick Tock.srt не найден. Фильм будет пропущен.\n",
      "Файл Suits.Episode 16- 25th Hour.srt не найден. Фильм будет пропущен.\n",
      "Файл Suits.Episode 2- Compensation.srt не найден. Фильм будет пропущен.\n",
      "Файл Suits.Episode 3- No Refills.srt не найден. Фильм будет пропущен.\n",
      "Файл Suits.Episode 4- No Puedo Hacerlo.srt не найден. Фильм будет пропущен.\n",
      "Файл Suits.Episode 5- Toe to Toe.srt не найден. Фильм будет пропущен.\n",
      "Файл Suits.Episode 6- Privilege.srt не найден. Фильм будет пропущен.\n",
      "Файл Suits.Episode 7- Hitting Home.srt не найден. Фильм будет пропущен.\n",
      "Файл Suits.Episode 8- Mea Culpa.srt не найден. Фильм будет пропущен.\n",
      "Файл Suits.Episode 9- Uninvited Guests.srt не найден. Фильм будет пропущен.\n",
      "Файл Suits.S01E01.1080p.BluRay.AAC5.1.x265-DTG.02.EN.srt не найден. Фильм будет пропущен.\n",
      "Файл Suits.S01E02.1080p.BluRay.AAC5.1.x265-DTG.02.EN.srt не найден. Фильм будет пропущен.\n",
      "Файл Suits.S01E03.1080p.BluRay.AAC5.1.x265-DTG.02.EN.srt не найден. Фильм будет пропущен.\n",
      "Файл Suits.S01E04.1080p.BluRay.AAC5.1.x265-DTG.02.EN.srt не найден. Фильм будет пропущен.\n",
      "Файл Suits.S01E05.1080p.BluRay.AAC5.1.x265-DTG.02.EN.srt не найден. Фильм будет пропущен.\n",
      "Файл Suits.S01E06.1080p.BluRay.AAC5.1.x265-DTG.02.EN.srt не найден. Фильм будет пропущен.\n",
      "Файл Suits.S01E07.1080p.BluRay.AAC5.1.x265-DTG.02.EN.srt не найден. Фильм будет пропущен.\n",
      "Файл Suits.S01E08.1080p.BluRay.AAC5.1.x265-DTG.02.EN.srt не найден. Фильм будет пропущен.\n",
      "Файл Suits.S01E09.1080p.BluRay.AAC5.1.x265-DTG.02.EN.srt не найден. Фильм будет пропущен.\n",
      "Файл Suits.S01E10.1080p.BluRay.AAC5.1.x265-DTG.02.EN.srt не найден. Фильм будет пропущен.\n",
      "Файл Suits.S01E11.1080p.BluRay.AAC5.1.x265-DTG.02.EN.srt не найден. Фильм будет пропущен.\n",
      "Файл Suits.S01E12.1080p.BluRay.AAC5.1.x265-DTG.02.EN.srt не найден. Фильм будет пропущен.\n",
      "Файл Suits.S02E01.HDTV.x264-AVS.srt не найден. Фильм будет пропущен.\n",
      "Файл Suits.S02E02.HDTV.x264-ASAP.srt не найден. Фильм будет пропущен.\n",
      "Файл Suits.S02E03.HDTV.x264-ASAP.srt не найден. Фильм будет пропущен.\n",
      "Файл Suits.S02E04.HDTV.x264-ASAP.srt не найден. Фильм будет пропущен.\n",
      "Файл Suits.S02E05.iNTERNAL.HDTV.x264-2HD.srt не найден. Фильм будет пропущен.\n",
      "Файл Suits.S02E06.All.In.HDTV.x264-FQM.srt не найден. Фильм будет пропущен.\n",
      "Файл Suits.S02E07.Sucker.Punch.PROPER.HDTV.x264-FQM.srt не найден. Фильм будет пропущен.\n",
      "Файл Suits.S02E08.HDTV.x264-EVOLVE.srt не найден. Фильм будет пропущен.\n",
      "Файл Suits.S02E09.HDTV.x264-ASAP.srt не найден. Фильм будет пропущен.\n",
      "Файл Suits.S02E10.HDTV.x264-ASAP.srt не найден. Фильм будет пропущен.\n",
      "Файл Suits.S02E11.HDTV.x264-ASAP.srt не найден. Фильм будет пропущен.\n",
      "Файл Suits.S02E12.HDTV.x264-ASAP.srt не найден. Фильм будет пропущен.\n",
      "Файл Suits.S02E13.REPACK.HDTV.x264-2HD.srt не найден. Фильм будет пропущен.\n",
      "Файл Suits.S02E14.HDTV.x264-ASAP.srt не найден. Фильм будет пропущен.\n",
      "Файл Suits.S02E15.HDTV.x264-ASAP.srt не найден. Фильм будет пропущен.\n",
      "Файл Suits.S02E16.HDTV.x264-2HD.srt не найден. Фильм будет пропущен.\n",
      "Файл The.Notebook.DVDRip.XviD-DiAMOND.srt не найден. Фильм будет пропущен.\n",
      "Файл z srt23 uk-bun Gullivers.Travels.1939.720p.BluRay.x264-CiNEFiLE.srt не найден. Фильм будет пропущен.\n",
      "Файл Downton Abbey - S01E01 - Episode 1.eng.SDH.srt не найден. Фильм будет пропущен.\n",
      "Файл Downton Abbey - S01E02 - Episode 2.eng.SDH.srt не найден. Фильм будет пропущен.\n",
      "Файл Downton Abbey - S01E03 - Episode 3.eng.SDH.srt не найден. Фильм будет пропущен.\n",
      "Файл Downton Abbey - S01E04 - Episode 4.eng.SDH.srt не найден. Фильм будет пропущен.\n",
      "Файл Downton Abbey - S01E05 - Episode 5.eng.SDH.srt не найден. Фильм будет пропущен.\n",
      "Файл Downton Abbey - S01E06 - Episode 6.eng.SDH.srt не найден. Фильм будет пропущен.\n",
      "Файл Downton Abbey - S01E07 - Episode 7.eng.SDH.srt не найден. Фильм будет пропущен.\n",
      "Файл Suits S04E01 EngSub.srt не найден. Фильм будет пропущен.\n",
      "Файл Suits S04E02 EngSub.srt не найден. Фильм будет пропущен.\n",
      "Файл Suits S04E03 EngSub.srt не найден. Фильм будет пропущен.\n",
      "Файл Suits S04E04 EngSub.srt не найден. Фильм будет пропущен.\n",
      "Файл Suits S04E05 EngSub.srt не найден. Фильм будет пропущен.\n",
      "Файл Suits S04E06 EngSub.srt не найден. Фильм будет пропущен.\n",
      "Файл Suits S04E07 EngSub.srt не найден. Фильм будет пропущен.\n",
      "Файл Suits S04E08 EngSub.srt не найден. Фильм будет пропущен.\n",
      "Файл Suits S04E09 EngSub.srt не найден. Фильм будет пропущен.\n",
      "Файл Suits S04E10 EngSub.srt не найден. Фильм будет пропущен.\n",
      "Файл Suits S04E11 EngSub.srt не найден. Фильм будет пропущен.\n",
      "Файл Suits S04E12 EngSub.srt не найден. Фильм будет пропущен.\n",
      "Файл Suits S04E13 EngSub.srt не найден. Фильм будет пропущен.\n",
      "Файл Suits S04E14 EngSub.srt не найден. Фильм будет пропущен.\n",
      "Файл Suits S04E15 EngSub.srt не найден. Фильм будет пропущен.\n",
      "Файл Suits S04E16 EngSub.srt не найден. Фильм будет пропущен.\n",
      "Файл Suits.S03E01.480pHDTV.x264-mSD.srt не найден. Фильм будет пропущен.\n",
      "Файл Suits.S03E02.720pHDTV.x264-mSD.srt не найден. Фильм будет пропущен.\n",
      "Файл Suits.S03E03.480pHDTV.x264-mSD.srt не найден. Фильм будет пропущен.\n",
      "Файл Suits.S03E04.480pHDTV.x264-mSD.srt не найден. Фильм будет пропущен.\n",
      "Файл Suits.S03E05.480p.HDTV.x264-mSD.srt не найден. Фильм будет пропущен.\n",
      "Файл Suits.S03E06.720p.HDTV.x264-mSD.srt не найден. Фильм будет пропущен.\n",
      "Файл Suits.S03E07.HDTV.x264-mSD.srt не найден. Фильм будет пропущен.\n",
      "Файл Suits.S03E08.480p.HDTV.x264-mSD.srt не найден. Фильм будет пропущен.\n",
      "Файл Suits.S03E09.480p.HDTV.x264-mSD.srt не найден. Фильм будет пропущен.\n",
      "Файл Suits.S03E10.HDTV.x264-mSD.srt не найден. Фильм будет пропущен.\n",
      "Файл Glass Onion.srt не найден. Фильм будет пропущен.\n",
      "Файл Matilda(2022).srt не найден. Фильм будет пропущен.\n",
      "Файл Bullet train.srt не найден. Фильм будет пропущен.\n",
      "Файл Thor: love and thunder.srt не найден. Фильм будет пропущен.\n",
      "Файл Lightyear.srt не найден. Фильм будет пропущен.\n",
      "Файл The Grinch.srt не найден. Фильм будет пропущен.\n"
     ]
    }
   ],
   "source": [
    "# Создание нового датафрейма\n",
    "new_df = pd.DataFrame(columns=[\"movie\", \"subtitles\", \"english_level\"])\n",
    "\n",
    "# Название папки\n",
    "folder_name = 'Subtitles'\n",
    "\n",
    "# Путь к папке\n",
    "folder_path = os.path.join(directory, folder_name)\n",
    "\n",
    "# Цикл по всем строкам исходного датафрейма\n",
    "for index, row in movies_labels.iterrows():\n",
    "    # Получение названия файла .srt\n",
    "    file_name = row[\"Movie\"] + \".srt\"\n",
    "    # Получаем полный путь к файлу\n",
    "    file_path = os.path.join(folder_path, file_name)\n",
    "    # Проверка существования файла\n",
    "    if os.path.exists(file_path):\n",
    "        try:\n",
    "            # Чтение субтитров из .srt-файла\n",
    "            try:\n",
    "                subs = pysrt.open(file_path)\n",
    "            except UnicodeDecodeError:\n",
    "                try:\n",
    "                    subs = pysrt.open(file_path, encoding='iso-8859-1')\n",
    "                except:\n",
    "                    pass\n",
    "            # Добавление строки в новый датафрейм\n",
    "            new_row = {\n",
    "                \"movie\": row[\"Movie\"], \n",
    "                \"subtitles\": subs[1:].text, # удаляем первый рекламный субтитр и переводим pysrt-файл в текст\n",
    "                \"english_level\": row[\"Level\"]\n",
    "            }\n",
    "            new_df = pd.concat([new_df, pd.DataFrame(new_row, index=[0])], ignore_index=True)\n",
    "        except:\n",
    "            # В случае ошибки при чтении файла\n",
    "            print(f\"Ошибка при чтении файла {file_name}. Фильм будет пропущен.\")\n",
    "    else:\n",
    "        # Если файла не существует\n",
    "        print(f\"Файл {file_name} не найден. Фильм будет пропущен.\")"
   ]
  },
  {
   "cell_type": "markdown",
   "id": "e2737cf2",
   "metadata": {},
   "source": [
    "Выведем полученный датафрейм."
   ]
  },
  {
   "cell_type": "code",
   "execution_count": 9,
   "id": "444b02d9",
   "metadata": {
    "ExecuteTime": {
     "end_time": "2023-05-15T20:44:21.222441Z",
     "start_time": "2023-05-15T20:44:21.204040Z"
    }
   },
   "outputs": [
    {
     "data": {
      "text/html": [
       "<div>\n",
       "<style scoped>\n",
       "    .dataframe tbody tr th:only-of-type {\n",
       "        vertical-align: middle;\n",
       "    }\n",
       "\n",
       "    .dataframe tbody tr th {\n",
       "        vertical-align: top;\n",
       "    }\n",
       "\n",
       "    .dataframe thead th {\n",
       "        text-align: right;\n",
       "    }\n",
       "</style>\n",
       "<table border=\"1\" class=\"dataframe\">\n",
       "  <thead>\n",
       "    <tr style=\"text-align: right;\">\n",
       "      <th></th>\n",
       "      <th>movie</th>\n",
       "      <th>subtitles</th>\n",
       "      <th>english_level</th>\n",
       "    </tr>\n",
       "  </thead>\n",
       "  <tbody>\n",
       "    <tr>\n",
       "      <th>0</th>\n",
       "      <td>10_Cloverfield_lane(2016)</td>\n",
       "      <td>(CLANGING)\\n(DRAWER CLOSES)\\n(INAUDIBLE)\\n(CEL...</td>\n",
       "      <td>B1</td>\n",
       "    </tr>\n",
       "    <tr>\n",
       "      <th>1</th>\n",
       "      <td>10_things_I_hate_about_you(1999)</td>\n",
       "      <td>I'll be right with you.\\nSo, Cameron. Here you...</td>\n",
       "      <td>B1</td>\n",
       "    </tr>\n",
       "    <tr>\n",
       "      <th>2</th>\n",
       "      <td>A_knights_tale(2001)</td>\n",
       "      <td>Should we help him?\\nHe's due in the lists in ...</td>\n",
       "      <td>B2</td>\n",
       "    </tr>\n",
       "    <tr>\n",
       "      <th>3</th>\n",
       "      <td>A_star_is_born(2018)</td>\n",
       "      <td>Get to it.\\n&lt;i&gt;♪ Black eyes open wide\\nIt's ti...</td>\n",
       "      <td>B2</td>\n",
       "    </tr>\n",
       "    <tr>\n",
       "      <th>4</th>\n",
       "      <td>Aladdin(1992)</td>\n",
       "      <td>&lt;i&gt;Where the caravan camels roam&lt;/i&gt;\\n&lt;i&gt;Where...</td>\n",
       "      <td>A2/A2+</td>\n",
       "    </tr>\n",
       "    <tr>\n",
       "      <th>...</th>\n",
       "      <td>...</td>\n",
       "      <td>...</td>\n",
       "      <td>...</td>\n",
       "    </tr>\n",
       "    <tr>\n",
       "      <th>105</th>\n",
       "      <td>Venom(2018)</td>\n",
       "      <td>&lt;i&gt;The specimens are secured,\\nand we're headi...</td>\n",
       "      <td>B2</td>\n",
       "    </tr>\n",
       "    <tr>\n",
       "      <th>106</th>\n",
       "      <td>Warm_bodies(2013)</td>\n",
       "      <td>&lt;i&gt;I'm so pale.&lt;/i&gt;\\n&lt;i&gt;I should get out more....</td>\n",
       "      <td>B1</td>\n",
       "    </tr>\n",
       "    <tr>\n",
       "      <th>107</th>\n",
       "      <td>We_are_the_Millers(2013)</td>\n",
       "      <td>&lt;i&gt;...it's full-on double rainbow all\\nthe way...</td>\n",
       "      <td>B1</td>\n",
       "    </tr>\n",
       "    <tr>\n",
       "      <th>108</th>\n",
       "      <td>While_You_Were_Sleeping(1995)</td>\n",
       "      <td>&lt;i&gt;I just don't remember it&lt;/i&gt;\\n&lt;i&gt;being this...</td>\n",
       "      <td>B1</td>\n",
       "    </tr>\n",
       "    <tr>\n",
       "      <th>109</th>\n",
       "      <td>Zootopia(2016)</td>\n",
       "      <td>Thousands of years ago,\\nthese were the forces...</td>\n",
       "      <td>B2</td>\n",
       "    </tr>\n",
       "  </tbody>\n",
       "</table>\n",
       "<p>110 rows × 3 columns</p>\n",
       "</div>"
      ],
      "text/plain": [
       "                                movie  \\\n",
       "0           10_Cloverfield_lane(2016)   \n",
       "1    10_things_I_hate_about_you(1999)   \n",
       "2                A_knights_tale(2001)   \n",
       "3                A_star_is_born(2018)   \n",
       "4                       Aladdin(1992)   \n",
       "..                                ...   \n",
       "105                       Venom(2018)   \n",
       "106                 Warm_bodies(2013)   \n",
       "107          We_are_the_Millers(2013)   \n",
       "108     While_You_Were_Sleeping(1995)   \n",
       "109                    Zootopia(2016)   \n",
       "\n",
       "                                             subtitles english_level  \n",
       "0    (CLANGING)\\n(DRAWER CLOSES)\\n(INAUDIBLE)\\n(CEL...            B1  \n",
       "1    I'll be right with you.\\nSo, Cameron. Here you...            B1  \n",
       "2    Should we help him?\\nHe's due in the lists in ...            B2  \n",
       "3    Get to it.\\n<i>♪ Black eyes open wide\\nIt's ti...            B2  \n",
       "4    <i>Where the caravan camels roam</i>\\n<i>Where...        A2/A2+  \n",
       "..                                                 ...           ...  \n",
       "105  <i>The specimens are secured,\\nand we're headi...            B2  \n",
       "106  <i>I'm so pale.</i>\\n<i>I should get out more....            B1  \n",
       "107  <i>...it's full-on double rainbow all\\nthe way...            B1  \n",
       "108  <i>I just don't remember it</i>\\n<i>being this...            B1  \n",
       "109  Thousands of years ago,\\nthese were the forces...            B2  \n",
       "\n",
       "[110 rows x 3 columns]"
      ]
     },
     "execution_count": 9,
     "metadata": {},
     "output_type": "execute_result"
    }
   ],
   "source": [
    "new_df"
   ]
  },
  {
   "cell_type": "markdown",
   "id": "ec660d2b",
   "metadata": {},
   "source": [
    "Выведем основную информацию о датафрейме."
   ]
  },
  {
   "cell_type": "code",
   "execution_count": 10,
   "id": "f77c7283",
   "metadata": {
    "ExecuteTime": {
     "end_time": "2023-05-15T20:44:21.234119Z",
     "start_time": "2023-05-15T20:44:21.225362Z"
    }
   },
   "outputs": [
    {
     "name": "stdout",
     "output_type": "stream",
     "text": [
      "<class 'pandas.core.frame.DataFrame'>\n",
      "RangeIndex: 110 entries, 0 to 109\n",
      "Data columns (total 3 columns):\n",
      " #   Column         Non-Null Count  Dtype \n",
      "---  ------         --------------  ----- \n",
      " 0   movie          110 non-null    object\n",
      " 1   subtitles      110 non-null    object\n",
      " 2   english_level  110 non-null    object\n",
      "dtypes: object(3)\n",
      "memory usage: 2.7+ KB\n"
     ]
    }
   ],
   "source": [
    "new_df.info()"
   ]
  },
  {
   "cell_type": "markdown",
   "id": "973f00fc",
   "metadata": {},
   "source": [
    "Объединим два полученных датафрейма в один."
   ]
  },
  {
   "cell_type": "code",
   "execution_count": 11,
   "id": "858fdc45",
   "metadata": {
    "ExecuteTime": {
     "end_time": "2023-05-15T20:44:21.242925Z",
     "start_time": "2023-05-15T20:44:21.237192Z"
    }
   },
   "outputs": [],
   "source": [
    "df = pd.concat([df, new_df], ignore_index=True)"
   ]
  },
  {
   "cell_type": "markdown",
   "id": "0599d6b4",
   "metadata": {},
   "source": [
    "Выведем объединенный датафрейм."
   ]
  },
  {
   "cell_type": "code",
   "execution_count": 12,
   "id": "9e86800d",
   "metadata": {
    "ExecuteTime": {
     "end_time": "2023-05-15T20:44:21.259677Z",
     "start_time": "2023-05-15T20:44:21.245453Z"
    }
   },
   "outputs": [
    {
     "data": {
      "text/html": [
       "<div>\n",
       "<style scoped>\n",
       "    .dataframe tbody tr th:only-of-type {\n",
       "        vertical-align: middle;\n",
       "    }\n",
       "\n",
       "    .dataframe tbody tr th {\n",
       "        vertical-align: top;\n",
       "    }\n",
       "\n",
       "    .dataframe thead th {\n",
       "        text-align: right;\n",
       "    }\n",
       "</style>\n",
       "<table border=\"1\" class=\"dataframe\">\n",
       "  <thead>\n",
       "    <tr style=\"text-align: right;\">\n",
       "      <th></th>\n",
       "      <th>movie</th>\n",
       "      <th>subtitles</th>\n",
       "      <th>english_level</th>\n",
       "    </tr>\n",
       "  </thead>\n",
       "  <tbody>\n",
       "    <tr>\n",
       "      <th>0</th>\n",
       "      <td>The Walking Dead-S01E03-Tell It To The Frogs.E...</td>\n",
       "      <td>Merle:\\nThat's right. You heard me, bitch.\\nYo...</td>\n",
       "      <td>A2</td>\n",
       "    </tr>\n",
       "    <tr>\n",
       "      <th>1</th>\n",
       "      <td>The Walking Dead-S01E05-Wildfire.English</td>\n",
       "      <td>I don't know if you're out there.\\nI don't kno...</td>\n",
       "      <td>A2</td>\n",
       "    </tr>\n",
       "    <tr>\n",
       "      <th>2</th>\n",
       "      <td>The Walking Dead-S01E02-Guts.English</td>\n",
       "      <td>Boy: Mom!\\nRight here.\\n( pots rattling )\\nAny...</td>\n",
       "      <td>A2</td>\n",
       "    </tr>\n",
       "    <tr>\n",
       "      <th>3</th>\n",
       "      <td>The Walking Dead-S01E04-Vatos.English</td>\n",
       "      <td>- What?\\n- Nothing.\\nIt's not nothing.\\nIt's a...</td>\n",
       "      <td>A2</td>\n",
       "    </tr>\n",
       "    <tr>\n",
       "      <th>4</th>\n",
       "      <td>The Walking Dead-S01E06-TS-19.English</td>\n",
       "      <td>Hey hey.\\nWhoa whoa whoa whoa.\\nMa'am. Ma'am, ...</td>\n",
       "      <td>A2</td>\n",
       "    </tr>\n",
       "    <tr>\n",
       "      <th>...</th>\n",
       "      <td>...</td>\n",
       "      <td>...</td>\n",
       "      <td>...</td>\n",
       "    </tr>\n",
       "    <tr>\n",
       "      <th>268</th>\n",
       "      <td>Venom(2018)</td>\n",
       "      <td>&lt;i&gt;The specimens are secured,\\nand we're headi...</td>\n",
       "      <td>B2</td>\n",
       "    </tr>\n",
       "    <tr>\n",
       "      <th>269</th>\n",
       "      <td>Warm_bodies(2013)</td>\n",
       "      <td>&lt;i&gt;I'm so pale.&lt;/i&gt;\\n&lt;i&gt;I should get out more....</td>\n",
       "      <td>B1</td>\n",
       "    </tr>\n",
       "    <tr>\n",
       "      <th>270</th>\n",
       "      <td>We_are_the_Millers(2013)</td>\n",
       "      <td>&lt;i&gt;...it's full-on double rainbow all\\nthe way...</td>\n",
       "      <td>B1</td>\n",
       "    </tr>\n",
       "    <tr>\n",
       "      <th>271</th>\n",
       "      <td>While_You_Were_Sleeping(1995)</td>\n",
       "      <td>&lt;i&gt;I just don't remember it&lt;/i&gt;\\n&lt;i&gt;being this...</td>\n",
       "      <td>B1</td>\n",
       "    </tr>\n",
       "    <tr>\n",
       "      <th>272</th>\n",
       "      <td>Zootopia(2016)</td>\n",
       "      <td>Thousands of years ago,\\nthese were the forces...</td>\n",
       "      <td>B2</td>\n",
       "    </tr>\n",
       "  </tbody>\n",
       "</table>\n",
       "<p>273 rows × 3 columns</p>\n",
       "</div>"
      ],
      "text/plain": [
       "                                                 movie  \\\n",
       "0    The Walking Dead-S01E03-Tell It To The Frogs.E...   \n",
       "1             The Walking Dead-S01E05-Wildfire.English   \n",
       "2                 The Walking Dead-S01E02-Guts.English   \n",
       "3                The Walking Dead-S01E04-Vatos.English   \n",
       "4                The Walking Dead-S01E06-TS-19.English   \n",
       "..                                                 ...   \n",
       "268                                        Venom(2018)   \n",
       "269                                  Warm_bodies(2013)   \n",
       "270                           We_are_the_Millers(2013)   \n",
       "271                      While_You_Were_Sleeping(1995)   \n",
       "272                                     Zootopia(2016)   \n",
       "\n",
       "                                             subtitles english_level  \n",
       "0    Merle:\\nThat's right. You heard me, bitch.\\nYo...            A2  \n",
       "1    I don't know if you're out there.\\nI don't kno...            A2  \n",
       "2    Boy: Mom!\\nRight here.\\n( pots rattling )\\nAny...            A2  \n",
       "3    - What?\\n- Nothing.\\nIt's not nothing.\\nIt's a...            A2  \n",
       "4    Hey hey.\\nWhoa whoa whoa whoa.\\nMa'am. Ma'am, ...            A2  \n",
       "..                                                 ...           ...  \n",
       "268  <i>The specimens are secured,\\nand we're headi...            B2  \n",
       "269  <i>I'm so pale.</i>\\n<i>I should get out more....            B1  \n",
       "270  <i>...it's full-on double rainbow all\\nthe way...            B1  \n",
       "271  <i>I just don't remember it</i>\\n<i>being this...            B1  \n",
       "272  Thousands of years ago,\\nthese were the forces...            B2  \n",
       "\n",
       "[273 rows x 3 columns]"
      ]
     },
     "execution_count": 12,
     "metadata": {},
     "output_type": "execute_result"
    }
   ],
   "source": [
    "df"
   ]
  },
  {
   "cell_type": "markdown",
   "id": "4343080f",
   "metadata": {},
   "source": [
    "Выведем основную информацию об объединенном датафрейме."
   ]
  },
  {
   "cell_type": "code",
   "execution_count": 13,
   "id": "343720f1",
   "metadata": {
    "ExecuteTime": {
     "end_time": "2023-05-15T20:44:21.275380Z",
     "start_time": "2023-05-15T20:44:21.263222Z"
    }
   },
   "outputs": [
    {
     "name": "stdout",
     "output_type": "stream",
     "text": [
      "<class 'pandas.core.frame.DataFrame'>\n",
      "RangeIndex: 273 entries, 0 to 272\n",
      "Data columns (total 3 columns):\n",
      " #   Column         Non-Null Count  Dtype \n",
      "---  ------         --------------  ----- \n",
      " 0   movie          273 non-null    object\n",
      " 1   subtitles      273 non-null    object\n",
      " 2   english_level  273 non-null    object\n",
      "dtypes: object(3)\n",
      "memory usage: 6.5+ KB\n"
     ]
    }
   ],
   "source": [
    "df.info()"
   ]
  },
  {
   "cell_type": "markdown",
   "id": "20b15b60",
   "metadata": {},
   "source": [
    "Отсортируем объединенный датафрейм по названиям фильмов."
   ]
  },
  {
   "cell_type": "code",
   "execution_count": 14,
   "id": "0948a25e",
   "metadata": {
    "ExecuteTime": {
     "end_time": "2023-05-15T20:44:21.293942Z",
     "start_time": "2023-05-15T20:44:21.289585Z"
    }
   },
   "outputs": [],
   "source": [
    "df = df.sort_values(by='movie', ignore_index=True)"
   ]
  },
  {
   "cell_type": "markdown",
   "id": "fb023c81",
   "metadata": {},
   "source": [
    "Выведем отсортированный объединенный датафрейм."
   ]
  },
  {
   "cell_type": "code",
   "execution_count": 15,
   "id": "7aacf35b",
   "metadata": {
    "ExecuteTime": {
     "end_time": "2023-05-15T20:44:21.311359Z",
     "start_time": "2023-05-15T20:44:21.297883Z"
    }
   },
   "outputs": [
    {
     "data": {
      "text/html": [
       "<div>\n",
       "<style scoped>\n",
       "    .dataframe tbody tr th:only-of-type {\n",
       "        vertical-align: middle;\n",
       "    }\n",
       "\n",
       "    .dataframe tbody tr th {\n",
       "        vertical-align: top;\n",
       "    }\n",
       "\n",
       "    .dataframe thead th {\n",
       "        text-align: right;\n",
       "    }\n",
       "</style>\n",
       "<table border=\"1\" class=\"dataframe\">\n",
       "  <thead>\n",
       "    <tr style=\"text-align: right;\">\n",
       "      <th></th>\n",
       "      <th>movie</th>\n",
       "      <th>subtitles</th>\n",
       "      <th>english_level</th>\n",
       "    </tr>\n",
       "  </thead>\n",
       "  <tbody>\n",
       "    <tr>\n",
       "      <th>0</th>\n",
       "      <td>10_Cloverfield_lane(2016)</td>\n",
       "      <td>(CLANGING)\\n(DRAWER CLOSES)\\n(INAUDIBLE)\\n(CEL...</td>\n",
       "      <td>B1</td>\n",
       "    </tr>\n",
       "    <tr>\n",
       "      <th>1</th>\n",
       "      <td>10_things_I_hate_about_you(1999)</td>\n",
       "      <td>I'll be right with you.\\nSo, Cameron. Here you...</td>\n",
       "      <td>B1</td>\n",
       "    </tr>\n",
       "    <tr>\n",
       "      <th>2</th>\n",
       "      <td>A_knights_tale(2001)</td>\n",
       "      <td>Should we help him?\\nHe's due in the lists in ...</td>\n",
       "      <td>B2</td>\n",
       "    </tr>\n",
       "    <tr>\n",
       "      <th>3</th>\n",
       "      <td>A_star_is_born(2018)</td>\n",
       "      <td>Get to it.\\n&lt;i&gt;♪ Black eyes open wide\\nIt's ti...</td>\n",
       "      <td>B2</td>\n",
       "    </tr>\n",
       "    <tr>\n",
       "      <th>4</th>\n",
       "      <td>Aladdin(1992)</td>\n",
       "      <td>&lt;i&gt;Where the caravan camels roam&lt;/i&gt;\\n&lt;i&gt;Where...</td>\n",
       "      <td>A2/A2+</td>\n",
       "    </tr>\n",
       "    <tr>\n",
       "      <th>...</th>\n",
       "      <td>...</td>\n",
       "      <td>...</td>\n",
       "      <td>...</td>\n",
       "    </tr>\n",
       "    <tr>\n",
       "      <th>268</th>\n",
       "      <td>While_You_Were_Sleeping(1995)</td>\n",
       "      <td>&lt;i&gt;I just don't remember it&lt;/i&gt;\\n&lt;i&gt;being this...</td>\n",
       "      <td>B1</td>\n",
       "    </tr>\n",
       "    <tr>\n",
       "      <th>269</th>\n",
       "      <td>Zootopia(2016)</td>\n",
       "      <td>Thousands of years ago,\\nthese were the forces...</td>\n",
       "      <td>B2</td>\n",
       "    </tr>\n",
       "    <tr>\n",
       "      <th>270</th>\n",
       "      <td>icarus.2017.web.x264-strife</td>\n",
       "      <td>Solemnly swear the testimony\\nyou're about to ...</td>\n",
       "      <td>B2</td>\n",
       "    </tr>\n",
       "    <tr>\n",
       "      <th>271</th>\n",
       "      <td>mechanic-resurrection_</td>\n",
       "      <td>We saved your usual table, Mr. Santos.\\nThank ...</td>\n",
       "      <td>B1</td>\n",
       "    </tr>\n",
       "    <tr>\n",
       "      <th>272</th>\n",
       "      <td>z srt23 uk-bun Gullivers.Travels.1939.720p.Blu...</td>\n",
       "      <td>&lt;b&gt;Gulliver's Travels (1939)\\n&lt;b&gt;Based on Jona...</td>\n",
       "      <td>B2</td>\n",
       "    </tr>\n",
       "  </tbody>\n",
       "</table>\n",
       "<p>273 rows × 3 columns</p>\n",
       "</div>"
      ],
      "text/plain": [
       "                                                 movie  \\\n",
       "0                            10_Cloverfield_lane(2016)   \n",
       "1                     10_things_I_hate_about_you(1999)   \n",
       "2                                 A_knights_tale(2001)   \n",
       "3                                 A_star_is_born(2018)   \n",
       "4                                        Aladdin(1992)   \n",
       "..                                                 ...   \n",
       "268                      While_You_Were_Sleeping(1995)   \n",
       "269                                     Zootopia(2016)   \n",
       "270                        icarus.2017.web.x264-strife   \n",
       "271                             mechanic-resurrection_   \n",
       "272  z srt23 uk-bun Gullivers.Travels.1939.720p.Blu...   \n",
       "\n",
       "                                             subtitles english_level  \n",
       "0    (CLANGING)\\n(DRAWER CLOSES)\\n(INAUDIBLE)\\n(CEL...            B1  \n",
       "1    I'll be right with you.\\nSo, Cameron. Here you...            B1  \n",
       "2    Should we help him?\\nHe's due in the lists in ...            B2  \n",
       "3    Get to it.\\n<i>♪ Black eyes open wide\\nIt's ti...            B2  \n",
       "4    <i>Where the caravan camels roam</i>\\n<i>Where...        A2/A2+  \n",
       "..                                                 ...           ...  \n",
       "268  <i>I just don't remember it</i>\\n<i>being this...            B1  \n",
       "269  Thousands of years ago,\\nthese were the forces...            B2  \n",
       "270  Solemnly swear the testimony\\nyou're about to ...            B2  \n",
       "271  We saved your usual table, Mr. Santos.\\nThank ...            B1  \n",
       "272  <b>Gulliver's Travels (1939)\\n<b>Based on Jona...            B2  \n",
       "\n",
       "[273 rows x 3 columns]"
      ]
     },
     "execution_count": 15,
     "metadata": {},
     "output_type": "execute_result"
    }
   ],
   "source": [
    "df"
   ]
  },
  {
   "cell_type": "markdown",
   "id": "58235227",
   "metadata": {},
   "source": [
    "## Предобработка данных"
   ]
  },
  {
   "cell_type": "markdown",
   "id": "b493be54",
   "metadata": {},
   "source": [
    "### `movie`"
   ]
  },
  {
   "cell_type": "markdown",
   "id": "1aead4c4",
   "metadata": {},
   "source": [
    "Проверим датафрейм на наличие дубликатов по столбцу `movie`."
   ]
  },
  {
   "cell_type": "code",
   "execution_count": 16,
   "id": "acd2a5e9",
   "metadata": {
    "ExecuteTime": {
     "end_time": "2023-05-15T20:44:21.319500Z",
     "start_time": "2023-05-15T20:44:21.313803Z"
    }
   },
   "outputs": [
    {
     "name": "stdout",
     "output_type": "stream",
     "text": [
      "Количество дубликатов по столбцу \"movie\": 4\n"
     ]
    }
   ],
   "source": [
    "print('Количество дубликатов по столбцу \"movie\": {}'\n",
    "      .format(df['movie'].duplicated().sum()))"
   ]
  },
  {
   "cell_type": "markdown",
   "id": "78f2b472",
   "metadata": {},
   "source": [
    "Нашлось 4 дубликата. Удалим их."
   ]
  },
  {
   "cell_type": "code",
   "execution_count": 17,
   "id": "a8470919",
   "metadata": {
    "ExecuteTime": {
     "end_time": "2023-05-15T20:44:21.328188Z",
     "start_time": "2023-05-15T20:44:21.322296Z"
    }
   },
   "outputs": [],
   "source": [
    "df.drop_duplicates(subset='movie', inplace=True, ignore_index=True)"
   ]
  },
  {
   "cell_type": "markdown",
   "id": "28214a7b",
   "metadata": {},
   "source": [
    "Проверим удалились ли дубликаты."
   ]
  },
  {
   "cell_type": "code",
   "execution_count": 18,
   "id": "b7b6e542",
   "metadata": {
    "ExecuteTime": {
     "end_time": "2023-05-15T20:44:21.338887Z",
     "start_time": "2023-05-15T20:44:21.331371Z"
    }
   },
   "outputs": [
    {
     "name": "stdout",
     "output_type": "stream",
     "text": [
      "Количество дубликатов по столбцу \"movie\": 0\n"
     ]
    }
   ],
   "source": [
    "print('Количество дубликатов по столбцу \"movie\": {}'\n",
    "      .format(df['movie'].duplicated().sum()))"
   ]
  },
  {
   "cell_type": "markdown",
   "id": "908f3b4e",
   "metadata": {},
   "source": [
    "Дубликатов не осталось."
   ]
  },
  {
   "cell_type": "markdown",
   "id": "dde0cef7",
   "metadata": {},
   "source": [
    "### `english_level`"
   ]
  },
  {
   "cell_type": "markdown",
   "id": "6a5b7558",
   "metadata": {},
   "source": [
    "Проверим какие уникальные уровни английского языка есть в нашем итоговом датафрейме."
   ]
  },
  {
   "cell_type": "code",
   "execution_count": 19,
   "id": "f9b97c02",
   "metadata": {
    "ExecuteTime": {
     "end_time": "2023-05-15T20:44:21.354362Z",
     "start_time": "2023-05-15T20:44:21.340853Z"
    }
   },
   "outputs": [
    {
     "data": {
      "text/plain": [
       "array(['A2', 'A2/A2+', 'A2/A2+, B1', 'B1', 'B1, B2', 'B2', 'C1'],\n",
       "      dtype=object)"
      ]
     },
     "execution_count": 19,
     "metadata": {},
     "output_type": "execute_result"
    }
   ],
   "source": [
    "df['english_level'].sort_values().unique()"
   ]
  },
  {
   "cell_type": "markdown",
   "id": "ad567dd6",
   "metadata": {},
   "source": [
    "Видим, что есть уровни, которые содержут в себе 2 или 3 уровня одновременно. Заменим такие составные уровни на их верхнюю границу, т.е. возьмем из них их наивысший уровень. Но будет исключение для 'A2/A2+': этот составной уровень мы заменим на 'A2', т.к. если заменим на 'A2+', то фильмов с 'A2' будет слишком мало ($6$ штук или ${\\sim}2.2\\%$), что помешает нам при обучении и кросс-валидации модели."
   ]
  },
  {
   "cell_type": "code",
   "execution_count": 20,
   "id": "120958f5",
   "metadata": {
    "ExecuteTime": {
     "end_time": "2023-05-15T20:44:21.364219Z",
     "start_time": "2023-05-15T20:44:21.358569Z"
    }
   },
   "outputs": [],
   "source": [
    "# Проставим уровень по верхней границе\n",
    "df['english_level'] = df['english_level'].replace({'A2/A2+': 'A2', \n",
    "                                                   'B1, B2': 'B2', \n",
    "                                                   'A2/A2+, B1': 'B1'})"
   ]
  },
  {
   "cell_type": "markdown",
   "id": "36c4160e",
   "metadata": {},
   "source": [
    "Проверим какие уникальные уровни английского языка получились в датафрейме."
   ]
  },
  {
   "cell_type": "code",
   "execution_count": 21,
   "id": "83ec91ba",
   "metadata": {
    "ExecuteTime": {
     "end_time": "2023-05-15T20:44:21.373337Z",
     "start_time": "2023-05-15T20:44:21.366778Z"
    }
   },
   "outputs": [
    {
     "data": {
      "text/plain": [
       "array(['A2', 'B1', 'B2', 'C1'], dtype=object)"
      ]
     },
     "execution_count": 21,
     "metadata": {},
     "output_type": "execute_result"
    }
   ],
   "source": [
    "df['english_level'].sort_values().unique()"
   ]
  },
  {
   "cell_type": "markdown",
   "id": "7ff9d555",
   "metadata": {},
   "source": [
    "Посмотрим количественное распределение фильмов по уровню английского языка."
   ]
  },
  {
   "cell_type": "code",
   "execution_count": 22,
   "id": "ee79bde7",
   "metadata": {
    "ExecuteTime": {
     "end_time": "2023-05-15T20:44:21.384322Z",
     "start_time": "2023-05-15T20:44:21.376555Z"
    }
   },
   "outputs": [
    {
     "data": {
      "text/plain": [
       "B2    143\n",
       "B1     56\n",
       "C1     39\n",
       "A2     31\n",
       "Name: english_level, dtype: int64"
      ]
     },
     "execution_count": 22,
     "metadata": {},
     "output_type": "execute_result"
    }
   ],
   "source": [
    "df['english_level'].value_counts()"
   ]
  },
  {
   "cell_type": "markdown",
   "id": "cc29f543",
   "metadata": {},
   "source": [
    "### `subtitles`"
   ]
  },
  {
   "cell_type": "markdown",
   "id": "f5069366",
   "metadata": {},
   "source": [
    "Получившийся текст из субтитров необходимо обработать: убрать все лишние символы, указания кто говорит в диалогах и пр. Далее надо лемматизировать обработанный текст, т.е. привести каждое слово к его основной форме (лемме).\n",
    "\n",
    "Для этих нужд напишем функции:\n",
    "- `data_cleaning`– очистка данных;\n",
    "\n",
    "- `nltk_lemmatization` – лемматизация с помощью библиотеки `nltk`;\n",
    "- `spacy_lemmatization` – лемматизация с помощью библиотеки `spacy`."
   ]
  },
  {
   "cell_type": "code",
   "execution_count": 27,
   "id": "4130d21e",
   "metadata": {
    "ExecuteTime": {
     "end_time": "2023-05-15T20:44:21.420763Z",
     "start_time": "2023-05-15T20:44:21.412511Z"
    }
   },
   "outputs": [
    {
     "name": "stderr",
     "output_type": "stream",
     "text": [
      "/var/folders/jj/yjtmqbj908n07r5gws8ll6mm0000gp/T/ipykernel_51389/2522802675.py:4: FutureWarning: Possible nested set at position 1\n",
      "  UPPER = re.compile('[[A-Za-z ]+[\\:\\]]')         # указания на того кто говорит (BOBBY:)\n"
     ]
    }
   ],
   "source": [
    "# Регулярные выражения\n",
    "HTML = re.compile('<[^>]*>')                    # html тэги меняем на пробел\n",
    "COMMENTS = re.compile('[\\(\\[][A-Za-z ]+[\\)\\]]') # комменты в скобках меняем на пробел\n",
    "UPPER = re.compile('[[A-Za-z ]+[\\:\\]]')         # указания на того кто говорит (BOBBY:)\n",
    "LETTERS = re.compile('[^a-zA-Z\\'.,!? ]')        # все что не буквы меняем на пробел \n",
    "DOTS = re.compile('[\\.]+')                      # многоточие меняем на точку\n",
    "SPACES = re.compile('\\s{2,}')                   # два или более пробельных символа подряд\n",
    "SYMB = re.compile(\"[^\\w\\d'\\s]\")                 # знаки препинания кроме апострофа\n",
    "\n",
    "# Очистка данных\n",
    "def data_cleaning(text):\n",
    "    text = HTML.sub(' ', text)                     # html тэги меняем на пробел\n",
    "    text = UPPER.sub(' ', text)                    # указания на того кто говорит (BOBBY:)\n",
    "    text = COMMENTS.sub(' ', text)                 # комменты в скобках меняем на пробел\n",
    "    text = LETTERS.sub(' ', text)                  # все что не буквы меняем на пробел\n",
    "    text = DOTS.sub(r'.', text)                    # многоточие меняем на точку\n",
    "    text = SYMB.sub('', text)                      # знаки препинания кроме апострофа на пустую строку\n",
    "    text = SPACES.sub(' ', text)                   # повторяющиеся пробелы меняем на один пробел\n",
    "    text = re.sub('www', '', text)                 # кое-где остаётся www, то же меняем на пустую строку\n",
    "    text = text.lstrip()                           # обрезка пробелов слева\n",
    "    text = text.encode('ascii', 'ignore').decode() # удаляем все что не ascii символы   \n",
    "    text = text.lower()                            # текст в нижний регистр\n",
    "    return text\n",
    "\n",
    "# # NLTK-лемматизация с соответствующими POS-тегами\n",
    "# def nltk_lemmatization(text):\n",
    "#     # Создание карты POS-тегов\n",
    "#     def get_wordnet_pos(word):\n",
    "#         # Map POS tag to first character lemmatize() accepts\n",
    "#         tag = nltk.pos_tag([word])[0][1][0].upper()\n",
    "#         tag_dict = {\"J\": wordnet.ADJ,\n",
    "#                     \"N\": wordnet.NOUN,\n",
    "#                     \"V\": wordnet.VERB,\n",
    "#                     \"R\": wordnet.ADV}\n",
    "#         return tag_dict.get(tag, wordnet.NOUN)\n",
    "\n",
    "#     # Удаление стоп-слов и упрощенная токенизация с помощью .split()\n",
    "#     stop_words = stopwords.words('english')\n",
    "#     text = [word for word in text.split() if word not in stop_words]\n",
    "#     # Инициализируем Wordnet Lemmatizer\n",
    "#     lemmatizer = WordNetLemmatizer()\n",
    "#     # Лемматизация списка слов и их объединение\n",
    "#     text = ' '.join([lemmatizer.lemmatize(word, get_wordnet_pos(word)) for word in text])\n",
    "#     return text\n",
    "\n",
    "# SpaCy-лемматизация\n",
    "def spacy_lemmatization(text):\n",
    "    # Инициализируем spacy 'en_core_web_sm' модель\n",
    "    nlp = spacy.load('en_core_web_sm')\n",
    "    # Лемматизация\n",
    "    text = ' '.join([token.lemma_ for token in nlp(text)])\n",
    "    return text"
   ]
  },
  {
   "cell_type": "markdown",
   "id": "dacd8f1b",
   "metadata": {},
   "source": [
    "В функции `nltk_lemmatization` вместо `nltk.word_tokenize` я использовал `.split()`, т.к. при токенизации такие слова как 'don't' превращались в два отдельных слова: 'do' и 'n't'. А в `stopwords.words('english')` слово 'don't' и другие как раз имеются.\n",
    "\n",
    "Но в итоге будем использовать `spacy`-лемматизацию, т.к. она дает большее качество у моделей."
   ]
  },
  {
   "cell_type": "markdown",
   "id": "9acf80af",
   "metadata": {},
   "source": [
    "Применим функцию `data_cleaning` к субтитрам."
   ]
  },
  {
   "cell_type": "code",
   "execution_count": 28,
   "id": "b7f30681",
   "metadata": {
    "ExecuteTime": {
     "end_time": "2023-05-15T20:44:24.361187Z",
     "start_time": "2023-05-15T20:44:21.423668Z"
    }
   },
   "outputs": [],
   "source": [
    "df['subtitles'] = df['subtitles'].apply(lambda x: data_cleaning(x))"
   ]
  },
  {
   "cell_type": "markdown",
   "id": "b98247fe",
   "metadata": {},
   "source": [
    "Применим функцию `spacy_lemmatization` к субтитрам."
   ]
  },
  {
   "cell_type": "code",
   "execution_count": 29,
   "id": "c85be9ad",
   "metadata": {
    "ExecuteTime": {
     "end_time": "2023-05-15T20:52:03.609345Z",
     "start_time": "2023-05-15T20:44:24.376100Z"
    }
   },
   "outputs": [],
   "source": [
    "df['subtitles'] = df['subtitles'].apply(lambda x: spacy_lemmatization(x))"
   ]
  },
  {
   "cell_type": "markdown",
   "id": "f43b27ec",
   "metadata": {},
   "source": [
    "### Разбиение данных на выборки"
   ]
  },
  {
   "cell_type": "markdown",
   "id": "4e29b75d",
   "metadata": {},
   "source": [
    "Извлечем целевой признак в переменную `target`, а субтитры — в `features`."
   ]
  },
  {
   "cell_type": "code",
   "execution_count": 30,
   "id": "95925688",
   "metadata": {
    "ExecuteTime": {
     "end_time": "2023-05-15T20:52:03.617474Z",
     "start_time": "2023-05-15T20:52:03.614437Z"
    }
   },
   "outputs": [],
   "source": [
    "features = df['subtitles']\n",
    "target = df['english_level']"
   ]
  },
  {
   "cell_type": "markdown",
   "id": "ddc7d03c",
   "metadata": {},
   "source": [
    "Разобьем данные на обучающую и тестовую выборки."
   ]
  },
  {
   "cell_type": "code",
   "execution_count": 31,
   "id": "9ae20be1",
   "metadata": {
    "ExecuteTime": {
     "end_time": "2023-05-15T20:52:03.634503Z",
     "start_time": "2023-05-15T20:52:03.620894Z"
    }
   },
   "outputs": [],
   "source": [
    "features_train, features_test, target_train, target_test = train_test_split(\n",
    "    features, target, test_size=0.2, random_state=12345)"
   ]
  },
  {
   "cell_type": "markdown",
   "id": "7d7f99ec",
   "metadata": {},
   "source": [
    "Проверим, в правильном ли соотношении разбились обучающая и тестовая выборки."
   ]
  },
  {
   "cell_type": "code",
   "execution_count": 32,
   "id": "18c6227b",
   "metadata": {
    "ExecuteTime": {
     "end_time": "2023-05-15T20:52:03.655015Z",
     "start_time": "2023-05-15T20:52:03.637938Z"
    }
   },
   "outputs": [
    {
     "name": "stdout",
     "output_type": "stream",
     "text": [
      "Обучающая и тестовая выборки разделены в отношении: 80 : 20\n"
     ]
    }
   ],
   "source": [
    "print('Обучающая и тестовая выборки разделены в отношении:', \n",
    "      int(round(len(features_train) / len(features) * 100, 0)), ':', \n",
    "      int(round(len(features_test) / len(features) * 100, 0)))"
   ]
  },
  {
   "cell_type": "markdown",
   "id": "4f8d579d",
   "metadata": {},
   "source": [
    "## Обучение моделей"
   ]
  },
  {
   "cell_type": "markdown",
   "id": "ab29ed53",
   "metadata": {},
   "source": [
    "Создадим датафрейм, в который будут записываться результаты подбора моделей."
   ]
  },
  {
   "cell_type": "code",
   "execution_count": 33,
   "id": "39783825",
   "metadata": {
    "ExecuteTime": {
     "end_time": "2023-05-15T20:52:03.666802Z",
     "start_time": "2023-05-15T20:52:03.661042Z"
    }
   },
   "outputs": [],
   "source": [
    "results = pd.DataFrame({'Модель': [], 'Параметры': [], 'Accuracy': []})"
   ]
  },
  {
   "cell_type": "markdown",
   "id": "0024773c",
   "metadata": {},
   "source": [
    "### Исследование задачи"
   ]
  },
  {
   "cell_type": "markdown",
   "id": "c43acf07",
   "metadata": {},
   "source": [
    "Исследуем баланс классов, т.е. проверим, как часто в целевом признаке встречаются, определенные нами, классы «A2», «B1», «B2» и «C1»."
   ]
  },
  {
   "cell_type": "code",
   "execution_count": 44,
   "id": "22967321",
   "metadata": {
    "ExecuteTime": {
     "end_time": "2023-05-15T20:54:49.092996Z",
     "start_time": "2023-05-15T20:54:48.851835Z"
    }
   },
   "outputs": [
    {
     "name": "stdout",
     "output_type": "stream",
     "text": [
      "B2    0.531599\n",
      "B1    0.208178\n",
      "C1    0.144981\n",
      "A2    0.115242\n",
      "Name: english_level, dtype: float64\n"
     ]
    },
    {
     "data": {
      "image/png": "[encoded data removed]",
      "text/plain": [
       "<Figure size 600x300 with 1 Axes>"
      ]
     },
     "metadata": {},
     "output_type": "display_data"
    }
   ],
   "source": [
    "class_frequency = df['english_level'].value_counts(normalize=True)\n",
    "print(class_frequency)\n",
    "class_frequency.plot(kind='bar', figsize=(6, 3))\n",
    "plt.xlabel('Класс')\n",
    "plt.ylabel('Частота класса')\n",
    "plt.title('Частотность классов «A2», «B1», «B2» и «C1»')\n",
    "plt.show()"
   ]
  },
  {
   "cell_type": "markdown",
   "id": "dbc4d6ab",
   "metadata": {},
   "source": [
    "Как видно из графика, наблюдается дисбаланс классов. Это связано с малым количеством данных. С этим можно бороться (например, с помощью resampling или расширением датасета), но в рамках данного проекта мы пока не будем этим заниматься."
   ]
  },
  {
   "cell_type": "markdown",
   "id": "d5d5d57e",
   "metadata": {},
   "source": [
    "### Bag of words (BOW)"
   ]
  },
  {
   "cell_type": "markdown",
   "id": "cab9b939",
   "metadata": {},
   "source": [
    "Введем `CountVectorizer`, с помощью которого произведем векторизацию текста субтитров."
   ]
  },
  {
   "cell_type": "code",
   "execution_count": 35,
   "id": "74521e2b",
   "metadata": {
    "ExecuteTime": {
     "end_time": "2023-05-15T20:52:04.062413Z",
     "start_time": "2023-05-15T20:52:04.054411Z"
    }
   },
   "outputs": [],
   "source": [
    "# count_vec = CountVectorizer()"
   ]
  },
  {
   "cell_type": "markdown",
   "id": "b2db67c1",
   "metadata": {},
   "source": [
    "При использовании `Bag of words` метрики моделей оказались ниже, чем при использовании `TF-ID`. Поэтому будем использовать `TF-ID`."
   ]
  },
  {
   "cell_type": "markdown",
   "id": "07eaa49c",
   "metadata": {},
   "source": [
    "### TF-IDF (Term Frequency - Inverse Document Frequency)"
   ]
  },
  {
   "cell_type": "markdown",
   "id": "b20c5d2a",
   "metadata": {},
   "source": [
    "Введем `TfidfVectorizer`, с помощью которого произведем векторизацию текста субтитров."
   ]
  },
  {
   "cell_type": "code",
   "execution_count": 36,
   "id": "40ee04cf",
   "metadata": {
    "ExecuteTime": {
     "end_time": "2023-05-15T20:52:04.089766Z",
     "start_time": "2023-05-15T20:52:04.073411Z"
    }
   },
   "outputs": [],
   "source": [
    "tfidf_vec = TfidfVectorizer(min_df=5, max_df=0.7, max_features=1500)"
   ]
  },
  {
   "cell_type": "markdown",
   "id": "ee2e4bb9",
   "metadata": {},
   "source": [
    "Добавление параметра `ngram_range=(1, 3)` только ухудшило метрику качества модели. А добавление комбинации из параметров `min_df=5, max_df=0.7, max_features=1500` улучшило качество."
   ]
  },
  {
   "cell_type": "markdown",
   "id": "10cb6568",
   "metadata": {},
   "source": [
    "### Модель случайного леса"
   ]
  },
  {
   "cell_type": "markdown",
   "id": "f56a1a0f",
   "metadata": {},
   "source": [
    "Был произведен поиск по следующей сетке гиперпараметров:\n",
    "- `criterion = ['gini', 'entropy']`\n",
    "- `max_depth = range(1, 11)`\n",
    "- `n_estimators = range(10, 101, 10)`\n",
    "\n",
    "Лучший результат показали следующие гиперпараметры:\n",
    "\n",
    "Для `TfidfVectorizer`:\n",
    "- `criterion = 'gini'`\n",
    "- `max_depth = 9`\n",
    "- `n_estimators = 10`"
   ]
  },
  {
   "cell_type": "code",
   "execution_count": 37,
   "id": "ba61d591",
   "metadata": {
    "ExecuteTime": {
     "end_time": "2023-05-15T20:52:09.032639Z",
     "start_time": "2023-05-15T20:52:04.104079Z"
    },
    "scrolled": true
   },
   "outputs": [
    {
     "name": "stdout",
     "output_type": "stream",
     "text": [
      "Результаты наилучшей модели случайного леса на обучающих данных: \n",
      "\n",
      "Параметры: {'randomforestclassifier__criterion': 'gini', 'randomforestclassifier__max_depth': 9, 'randomforestclassifier__n_estimators': 10} \n",
      "\n",
      "Accuracy: 0.6094809598330725 \n",
      "\n"
     ]
    },
    {
     "name": "stderr",
     "output_type": "stream",
     "text": [
      "/Users/GermanBaev/opt/anaconda3/lib/python3.9/site-packages/pandas/core/dtypes/cast.py:948: VisibleDeprecationWarning: Creating an ndarray from ragged nested sequences (which is a list-or-tuple of lists-or-tuples-or ndarrays with different lengths or shapes) is deprecated. If you meant to do this, you must specify 'dtype=object' when creating the ndarray.\n",
      "  element = np.asarray(element)\n"
     ]
    }
   ],
   "source": [
    "random_forest = RandomForestClassifier(random_state=12345, n_jobs=-1)\n",
    "random_forest_pipeline = make_pipeline(tfidf_vec, random_forest)\n",
    "random_forest_params = {'criterion': ['gini'],\n",
    "                        'max_depth': [9],\n",
    "                        'n_estimators': [10]\n",
    "                       }\n",
    "random_forest_new_params = {random_forest_pipeline.steps[1][0] + '__' + key: random_forest_params[key] \n",
    "                            for key in random_forest_params}\n",
    "random_forest_grid = GridSearchCV(random_forest_pipeline, random_forest_new_params, \n",
    "                                  cv=3, n_jobs=-1, scoring='accuracy')\n",
    "random_forest_grid.fit(features_train, target_train)\n",
    "\n",
    "results.loc[len(results)] = [random_forest_grid.best_estimator_.steps[1][0],\n",
    "                             random_forest_grid.best_estimator_,\n",
    "                             random_forest_grid.best_score_]\n",
    "\n",
    "print('Результаты наилучшей модели случайного леса на обучающих данных: \\n')\n",
    "print(f'Параметры: {random_forest_grid.best_params_} \\n')\n",
    "print(f'Accuracy: {random_forest_grid.best_score_} \\n')"
   ]
  },
  {
   "cell_type": "markdown",
   "id": "966998a4",
   "metadata": {},
   "source": [
    "### Модель логистической регрессии"
   ]
  },
  {
   "cell_type": "markdown",
   "id": "e4601a5f",
   "metadata": {},
   "source": [
    "Был произведен поиск по следующей сетке гиперпараметров:\n",
    "- `C = np.logspace(0, 4, 5)`\n",
    "- `penalty = ['l1', 'l2', 'elasticnet', None]`\n",
    "- `solver = ['lbfgs', 'liblinear', 'newton-cg', 'sag', 'saga']`\n",
    "\n",
    "Лучший результат показали следующие гиперпараметры:\n",
    "\n",
    "Для `TfidfVectorizer`:\n",
    "- `C = 1` \n",
    "- `penalty = None`\n",
    "- `solver = 'lbfgs'`"
   ]
  },
  {
   "cell_type": "code",
   "execution_count": 38,
   "id": "67baf875",
   "metadata": {
    "ExecuteTime": {
     "end_time": "2023-05-15T20:52:12.068568Z",
     "start_time": "2023-05-15T20:52:09.036779Z"
    }
   },
   "outputs": [
    {
     "name": "stdout",
     "output_type": "stream",
     "text": [
      "Результаты наилучшей модели логистической регрессии на обучающих данных: \n",
      "\n",
      "Параметры: {'logisticregression__C': 1, 'logisticregression__penalty': None, 'logisticregression__solver': 'lbfgs'} \n",
      "\n",
      "Accuracy: 0.6652321335419926 \n",
      "\n"
     ]
    }
   ],
   "source": [
    "log_reg = LogisticRegression(random_state=12345, max_iter=1000)\n",
    "log_reg_pipeline = make_pipeline(tfidf_vec, log_reg)\n",
    "log_reg_params = {'C': [1], \n",
    "                  'penalty': [None],\n",
    "                  'solver': ['lbfgs']\n",
    "                 }\n",
    "log_reg_new_params = {log_reg_pipeline.steps[1][0] + '__' + key: log_reg_params[key] \n",
    "                      for key in log_reg_params}\n",
    "log_reg_grid = GridSearchCV(log_reg_pipeline, log_reg_new_params, cv=3, \n",
    "                            n_jobs=-1, scoring='accuracy')\n",
    "log_reg_grid.fit(features_train, target_train)\n",
    "\n",
    "results.loc[len(results)] = [log_reg_grid.best_estimator_.steps[1][0], \n",
    "                            log_reg_grid.best_estimator_,\n",
    "                             log_reg_grid.best_score_]\n",
    "\n",
    "print('Результаты наилучшей модели логистической регрессии на обучающих данных: \\n')\n",
    "print(f'Параметры: {log_reg_grid.best_params_} \\n')\n",
    "print(f'Accuracy: {log_reg_grid.best_score_} \\n')"
   ]
  },
  {
   "cell_type": "markdown",
   "id": "303b935f",
   "metadata": {},
   "source": [
    "### Модель градиентного бустинга"
   ]
  },
  {
   "cell_type": "markdown",
   "id": "c5004c2f",
   "metadata": {},
   "source": [
    "Модель `CatBoost` оказалась очень долгой в обучении и ее качество хуже, чем у логистической регрессии."
   ]
  },
  {
   "cell_type": "markdown",
   "id": "9ca531dd",
   "metadata": {},
   "source": [
    "### Результаты моделей"
   ]
  },
  {
   "cell_type": "markdown",
   "id": "aa549bcf",
   "metadata": {},
   "source": [
    "Выведем результаты моделей."
   ]
  },
  {
   "cell_type": "code",
   "execution_count": 39,
   "id": "a0db7bd9",
   "metadata": {
    "ExecuteTime": {
     "end_time": "2023-05-15T20:52:12.144443Z",
     "start_time": "2023-05-15T20:52:12.076775Z"
    },
    "scrolled": true
   },
   "outputs": [
    {
     "data": {
      "text/html": [
       "<div>\n",
       "<style scoped>\n",
       "    .dataframe tbody tr th:only-of-type {\n",
       "        vertical-align: middle;\n",
       "    }\n",
       "\n",
       "    .dataframe tbody tr th {\n",
       "        vertical-align: top;\n",
       "    }\n",
       "\n",
       "    .dataframe thead th {\n",
       "        text-align: right;\n",
       "    }\n",
       "</style>\n",
       "<table border=\"1\" class=\"dataframe\">\n",
       "  <thead>\n",
       "    <tr style=\"text-align: right;\">\n",
       "      <th></th>\n",
       "      <th>Модель</th>\n",
       "      <th>Параметры</th>\n",
       "      <th>Accuracy</th>\n",
       "    </tr>\n",
       "  </thead>\n",
       "  <tbody>\n",
       "    <tr>\n",
       "      <th>1</th>\n",
       "      <td>logisticregression</td>\n",
       "      <td>(TfidfVectorizer(max_df=0.7, max_features=1500...</td>\n",
       "      <td>0.665232</td>\n",
       "    </tr>\n",
       "    <tr>\n",
       "      <th>0</th>\n",
       "      <td>randomforestclassifier</td>\n",
       "      <td>(TfidfVectorizer(max_df=0.7, max_features=1500...</td>\n",
       "      <td>0.609481</td>\n",
       "    </tr>\n",
       "  </tbody>\n",
       "</table>\n",
       "</div>"
      ],
      "text/plain": [
       "                   Модель                                          Параметры  \\\n",
       "1      logisticregression  (TfidfVectorizer(max_df=0.7, max_features=1500...   \n",
       "0  randomforestclassifier  (TfidfVectorizer(max_df=0.7, max_features=1500...   \n",
       "\n",
       "   Accuracy  \n",
       "1  0.665232  \n",
       "0  0.609481  "
      ]
     },
     "execution_count": 39,
     "metadata": {},
     "output_type": "execute_result"
    }
   ],
   "source": [
    "results.sort_values('Accuracy', ascending=False)"
   ]
  },
  {
   "cell_type": "markdown",
   "id": "9dc47f88",
   "metadata": {},
   "source": [
    "### Проверка на тестовых данных"
   ]
  },
  {
   "cell_type": "markdown",
   "id": "4de9e8b1",
   "metadata": {},
   "source": [
    "Запишем лучшую модель в переменную, а также ее предсказания на тестовых данных."
   ]
  },
  {
   "cell_type": "code",
   "execution_count": 40,
   "id": "8941887d",
   "metadata": {
    "ExecuteTime": {
     "end_time": "2023-05-15T20:52:12.457067Z",
     "start_time": "2023-05-15T20:52:12.162447Z"
    }
   },
   "outputs": [],
   "source": [
    "# Получение лучшей модели\n",
    "best_model = log_reg_grid.best_estimator_\n",
    "\n",
    "# Использование лучшей модели для прогнозирования на тестовых данных\n",
    "predicted = best_model.predict(features_test)"
   ]
  },
  {
   "cell_type": "markdown",
   "id": "e362e694",
   "metadata": {},
   "source": [
    "Построим матрицу неточностей."
   ]
  },
  {
   "cell_type": "code",
   "execution_count": 41,
   "id": "bd356505",
   "metadata": {
    "ExecuteTime": {
     "end_time": "2023-05-15T20:52:12.647401Z",
     "start_time": "2023-05-15T20:52:12.473147Z"
    },
    "scrolled": true
   },
   "outputs": [
    {
     "data": {
      "image/png": "[encoded data removed]",
      "text/plain": [
       "<Figure size 500x300 with 2 Axes>"
      ]
     },
     "metadata": {},
     "output_type": "display_data"
    }
   ],
   "source": [
    "cm = confusion_matrix(target_test, predicted)\n",
    "plt.figure(figsize=(5, 3))\n",
    "sns.heatmap(cm, annot=True, fmt='d')\n",
    "plt.title('Test Confusion Matrix')\n",
    "plt.show()"
   ]
  },
  {
   "cell_type": "markdown",
   "id": "58029faf",
   "metadata": {},
   "source": [
    "Cравнение предсказанных значений с тестовыми истинными значениями целевой переменной."
   ]
  },
  {
   "cell_type": "code",
   "execution_count": 42,
   "id": "c66a1501",
   "metadata": {
    "ExecuteTime": {
     "end_time": "2023-05-15T20:52:12.657426Z",
     "start_time": "2023-05-15T20:52:12.650022Z"
    }
   },
   "outputs": [
    {
     "name": "stdout",
     "output_type": "stream",
     "text": [
      "Test Accuracy: 0.7962962962962963\n"
     ]
    },
    {
     "data": {
      "text/plain": [
       "array(['B2', 'C1', 'B2', 'B1', 'B2', 'C1', 'B2', 'B2', 'B2', 'B2', 'B1',\n",
       "       'C1', 'B2', 'B2', 'B2', 'B2', 'B2', 'B2', 'C1', 'B2', 'B2', 'B2',\n",
       "       'A2', 'A2', 'B2', 'B2', 'B2', 'B1', 'C1', 'B2', 'B2', 'B2', 'C1',\n",
       "       'B2', 'B1', 'B2', 'B2', 'B1', 'B2', 'A2', 'A2', 'B2', 'A2', 'B1',\n",
       "       'B2', 'C1', 'B2', 'B2', 'B1', 'B1', 'B2', 'B2', 'B2', 'B1'],\n",
       "      dtype=object)"
      ]
     },
     "execution_count": 42,
     "metadata": {},
     "output_type": "execute_result"
    }
   ],
   "source": [
    "accuracy = accuracy_score(target_test, predicted)\n",
    "print(\"Test Accuracy:\", accuracy)\n",
    "\n",
    "predicted"
   ]
  },
  {
   "cell_type": "markdown",
   "id": "aa84e573",
   "metadata": {},
   "source": [
    "## Сохранение модели в бинарном виде"
   ]
  },
  {
   "cell_type": "code",
   "execution_count": 43,
   "id": "da0ecd12",
   "metadata": {
    "ExecuteTime": {
     "end_time": "2023-05-15T20:52:12.680661Z",
     "start_time": "2023-05-15T20:52:12.664637Z"
    }
   },
   "outputs": [],
   "source": [
    "with open('model.pcl', 'wb') as fid:\n",
    "    dump(best_model, fid)"
   ]
  }
 ],
 "metadata": {
  "kernelspec": {
   "display_name": "Python 3 (ipykernel)",
   "language": "python",
   "name": "python3"
  },
  "language_info": {
   "codemirror_mode": {
    "name": "ipython",
    "version": 3
   },
   "file_extension": ".py",
   "mimetype": "text/x-python",
   "name": "python",
   "nbconvert_exporter": "python",
   "pygments_lexer": "ipython3",
   "version": "3.9.16"
  },
  "notify_time": "30",
  "toc": {
   "base_numbering": 1,
   "nav_menu": {
    "height": "113px",
    "width": "251px"
   },
   "number_sections": true,
   "sideBar": true,
   "skip_h1_title": true,
   "title_cell": "Содержание",
   "title_sidebar": "Contents",
   "toc_cell": true,
   "toc_position": {
    "height": "calc(100% - 180px)",
    "left": "10px",
    "top": "150px",
    "width": "288px"
   },
   "toc_section_display": true,
   "toc_window_display": false
  },
  "varInspector": {
   "cols": {
    "lenName": 16,
    "lenType": 16,
    "lenVar": 40
   },
   "kernels_config": {
    "python": {
     "delete_cmd_postfix": "",
     "delete_cmd_prefix": "del ",
     "library": "var_list.py",
     "varRefreshCmd": "print(var_dic_list())"
    },
    "r": {
     "delete_cmd_postfix": ") ",
     "delete_cmd_prefix": "rm(",
     "library": "var_list.r",
     "varRefreshCmd": "cat(var_dic_list()) "
    }
   },
   "types_to_exclude": [
    "module",
    "function",
    "builtin_function_or_method",
    "instance",
    "_Feature"
   ],
   "window_display": false
  }
 },
 "nbformat": 4,
 "nbformat_minor": 5
}
